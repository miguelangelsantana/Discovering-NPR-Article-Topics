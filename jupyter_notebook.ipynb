{
 "cells": [
  {
   "cell_type": "markdown",
   "metadata": {},
   "source": [
    "# (Main Title)\n",
    "## (sub title) (Classification/Regression)\n",
    "\n",
    "**Author**: Miguel Santana\n",
    "\n",
    "Thank you for reviewing this repository. The author's contact info, blog post, sources and social media profiles are listed below under **further information.**\n",
    "\n",
    "The contents of this repository detail an analysis of ()\n",
    "\n",
    "The analysis will provide insight into ()\n",
    "\n",
    "Lastly, used cases that it can be applied to include ()\n",
    "\n",
    "#### Project Framework | OSEMN\n",
    "\n",
    "**Data processing and analysis is completed using the OSEMN framework. The structure includes: Obtaining the data, Scrubbing (processing), Exploratory Data Analysis, Statistical Modeling and Interpretation of the Results.**\n",
    "\n",
    "#### The Data\n",
    "\n",
    "The dataset includes ()\n",
    "\n",
    "The dataset can be found ()\n",
    "\n",
    "#### Package Imports"
   ]
  },
  {
   "cell_type": "code",
   "execution_count": null,
   "metadata": {},
   "outputs": [],
   "source": [
    "# import numpy as np\n",
    "# import pandas as pd\n",
    "# import matplotlib.pyplot as plt\n",
    "# import seaborn as sns"
   ]
  },
  {
   "cell_type": "markdown",
   "metadata": {},
   "source": [
    "# Import Data"
   ]
  },
  {
   "cell_type": "code",
   "execution_count": null,
   "metadata": {},
   "outputs": [],
   "source": [
    "# df = pd.read_csv('.csv')\n",
    "\n",
    "# print(df.shape)\n",
    "# print('\\n')\n",
    "# df.head(3)"
   ]
  },
  {
   "cell_type": "markdown",
   "metadata": {},
   "source": [
    "# Scrubbing | Data Cleaning\n",
    "### Null Values"
   ]
  },
  {
   "cell_type": "code",
   "execution_count": null,
   "metadata": {},
   "outputs": [],
   "source": [
    "# fill process\n",
    "# df.dropna(inplace=True)\n",
    "# df.dropna(subset=['feature'],inplace=True)"
   ]
  },
  {
   "cell_type": "markdown",
   "metadata": {},
   "source": [
    "### Feature Engineering"
   ]
  },
  {
   "cell_type": "code",
   "execution_count": null,
   "metadata": {},
   "outputs": [],
   "source": [
    "# feature engineer"
   ]
  },
  {
   "cell_type": "markdown",
   "metadata": {},
   "source": [
    "# Exploratory Data Analysis\n",
    "### Multicollinearity"
   ]
  },
  {
   "cell_type": "code",
   "execution_count": null,
   "metadata": {},
   "outputs": [],
   "source": []
  },
  {
   "cell_type": "markdown",
   "metadata": {},
   "source": [
    "## Feature Relationship | Feature 1"
   ]
  },
  {
   "cell_type": "code",
   "execution_count": null,
   "metadata": {},
   "outputs": [],
   "source": []
  },
  {
   "cell_type": "markdown",
   "metadata": {},
   "source": [
    "## Feature Relationship | Feature 2"
   ]
  },
  {
   "cell_type": "code",
   "execution_count": null,
   "metadata": {},
   "outputs": [],
   "source": []
  },
  {
   "cell_type": "markdown",
   "metadata": {},
   "source": [
    "## Model Preparation\n",
    "### Separating Features & Target "
   ]
  },
  {
   "cell_type": "code",
   "execution_count": null,
   "metadata": {},
   "outputs": [],
   "source": [
    "# X = df.drop('target',axis=1)\n",
    "# y = df['target']"
   ]
  },
  {
   "cell_type": "markdown",
   "metadata": {},
   "source": [
    "# Statistical Modeling "
   ]
  },
  {
   "cell_type": "markdown",
   "metadata": {},
   "source": [
    "```Python\n",
    "# From sklearn.**model_family** import **ModelAlgo** \n",
    "\n",
    "# mymodel = **ModelAlgo**(param1,param2)\n",
    "\n",
    "# mymodel.fit(x_train,y_train)\n",
    "\n",
    "# predictions = mymodel.predict(x_test)\n",
    "\n",
    "# From sklearn.metrics import **error_metric**\n",
    "\n",
    "# performance = **error_metric**(y_test,predictions)\n",
    "```"
   ]
  },
  {
   "cell_type": "markdown",
   "metadata": {},
   "source": [
    "### Model Validation"
   ]
  },
  {
   "cell_type": "markdown",
   "metadata": {},
   "source": [
    "```Python\n",
    "# Mean absolute error: mean of, sum of, absolute value of errors\n",
    "# Mean squared error: mean of, sum of, value of errors-squared  \n",
    "Root mean squared error: Square root of, mean of, sum of, squared errors\n",
    "* compare your error metric to average value (shoot for under 10%)\n",
    "```"
   ]
  },
  {
   "cell_type": "markdown",
   "metadata": {},
   "source": [
    "```Python\n",
    "from sklearn.metrics import mean_absolute_error,mean_squared_error\n",
    "\n",
    "mean_absolute_error(y_test,test_predictions) # MSE / compare to mean\n",
    "\n",
    "np.sqrt(mean_squared_error(y_test,test_predictions)) # RMSE / compare to mean\n",
    "\n",
    "df['target'].mean() # for comparison\n",
    "\n",
    "```"
   ]
  },
  {
   "cell_type": "markdown",
   "metadata": {},
   "source": [
    "#### Plotting Residuals\n",
    "\n",
    "```Python\n",
    "test_residuals = y_test - test_predictions # errors from model\n",
    "\n",
    "# plot to make sure no clear issue\n",
    "sns.scatterplot(x=y_test,y=test_residuals) # actual vs test\n",
    "\n",
    "# plot the horizontal line\n",
    "plt.axhline(y=0,color='r',ls='--') # should be random/distr around zero\n",
    "\n",
    "sns.displot(test_residuals,bins=25,kde=True) # check for normal distribution of errors\n",
    "\n",
    "# normal probability plot / compare perfect normal distr against error values\n",
    "import scipy as sp\n",
    "\n",
    "# compare your quantiles to the theoretical ones if they were normal distr\n",
    "# Create a figure and axis to plot on\n",
    "fig, ax = plt.subplots(figsize=(6,8),dpi=100)\n",
    "# probplot returns the raw values if needed\n",
    "# we just want to see the plot, so we assign these values to _\n",
    "_ = sp.stats.probplot(test_res,plot=ax) # should be close to the line for distr\n",
    "\n",
    "```"
   ]
  },
  {
   "cell_type": "markdown",
   "metadata": {},
   "source": [
    "# Interpreting Results | Recommendations / Used Cases\n",
    "\n",
    "The model was able to predict () with an (metric) score of (score).\n",
    "\n",
    "This type of an analysis is popular in business case ()\n",
    "\n",
    "It allows companies to better ()\n",
    "\n",
    "#### Feature Selection/Top Features/Recommendations\n",
    "\n",
    "**(Illustration)**"
   ]
  },
  {
   "cell_type": "code",
   "execution_count": null,
   "metadata": {},
   "outputs": [],
   "source": []
  },
  {
   "cell_type": "markdown",
   "metadata": {},
   "source": [
    "### Limitations, Future Work\n",
    "\n",
    "#### Limitations\n",
    "Limitations to this type of statistical modeling are ()\n",
    "\n",
    "Challenges for this analysis are ()\n",
    "\n",
    "#### Future Work\n",
    "\n",
    "Future work should include () data in order to ()\n",
    "\n",
    "This will allow () to be able to () better and ultimately leverage statistical modeling in order to ()\n",
    "\n",
    "#### Further Information\n",
    "\n",
    "A blog post on this analysis can be found on [Medium.](website)\n",
    "\n",
    "For any additional questions, please reach out via email at santana2.miguel@gmail.com, on [LinkedIn](https://www.linkedin.com/in/miguel-angel-santana-ii-mba-51467276/) or on [Twitter.](https://twitter.com/msantana_ds)\n",
    "\n",
    "#### Sources\n",
    "\n",
    "Additional analysis, notes and file sources can be found on Udemy's website. \n",
    "\n",
    "* Course Name:\n",
    "* Instructor: "
   ]
  }
 ],
 "metadata": {
  "kernelspec": {
   "display_name": "Python [conda env:learn-env] *",
   "language": "python",
   "name": "conda-env-learn-env-py"
  },
  "language_info": {
   "codemirror_mode": {
    "name": "ipython",
    "version": 3
   },
   "file_extension": ".py",
   "mimetype": "text/x-python",
   "name": "python",
   "nbconvert_exporter": "python",
   "pygments_lexer": "ipython3",
   "version": "3.6.9"
  },
  "toc": {
   "base_numbering": 1,
   "nav_menu": {},
   "number_sections": true,
   "sideBar": true,
   "skip_h1_title": false,
   "title_cell": "Table of Contents",
   "title_sidebar": "Contents",
   "toc_cell": false,
   "toc_position": {
    "height": "calc(100% - 180px)",
    "left": "10px",
    "top": "150px",
    "width": "165px"
   },
   "toc_section_display": true,
   "toc_window_display": true
  }
 },
 "nbformat": 4,
 "nbformat_minor": 2
}
